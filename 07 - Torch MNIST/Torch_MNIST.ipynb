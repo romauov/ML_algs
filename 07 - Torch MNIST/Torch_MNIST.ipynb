{
  "cells": [
    {
      "cell_type": "markdown",
      "metadata": {
        "id": "Q22yD2CR63le"
      },
      "source": [
        "## Домашнее задание №3\n",
        "\n",
        "##### Автор: [Радослав Нейчев](https://www.linkedin.com/in/radoslav-neychev/), @neychev"
      ]
    },
    {
      "cell_type": "code",
      "execution_count": null,
      "metadata": {
        "id": "E_PnUtCb63lj"
      },
      "outputs": [],
      "source": [
        "import numpy as np\n",
        "\n",
        "import torch\n",
        "from torch import nn\n",
        "from torch.nn import functional as F\n",
        "\n",
        "import torchvision\n",
        "from torchvision.datasets import MNIST\n",
        "\n",
        "from matplotlib import pyplot as plt\n",
        "from IPython.display import clear_output"
      ]
    },
    {
      "cell_type": "markdown",
      "metadata": {
        "id": "yMn6zZdv63ll"
      },
      "source": [
        "### Задача №1:\n",
        "Вернемся к задаче распознавания рукописных цифр, рассмотренной на первом занятии. Все также будем работать с набором данных [MNIST](http://yann.lecun.com/exdb/mnist/). В данном задании воспользуемся всем датасетом целиком.\n",
        "\n",
        "__Ваша основная задача: реализовать весь пайплан обучения модели и добиться качества $\\geq 92\\%$ на тестовой выборке.__\n",
        "\n",
        "Код для обучения модели в данном задании отсутствует. Присутствует лишь несколько тестов, которые помогут вам отладить свое решение. За примером можно обратиться к ноутбуку первого занятия.\n",
        "\n",
        "Настоятельно рекомендуем написать код \"с нуля\", лишь поглядывая на пример, а не просто \"скопировать-вставить\". Это поможет вам в дальнейшем."
      ]
    },
    {
      "cell_type": "code",
      "execution_count": null,
      "metadata": {
        "id": "XLl1XwjL63lm",
        "colab": {
          "base_uri": "https://localhost:8080/",
          "height": 469
        },
        "outputId": "197febde-d880-4ed1-f9a2-834ad894ed39"
      },
      "outputs": [
        {
          "output_type": "execute_result",
          "data": {
            "text/plain": [
              "Text(0.5, 1.0, 'Image label: 5')"
            ]
          },
          "metadata": {},
          "execution_count": 2
        },
        {
          "output_type": "display_data",
          "data": {
            "text/plain": [
              "<Figure size 640x480 with 1 Axes>"
            ],
            "image/png": "[encoded data removed]"
          },
          "metadata": {}
        }
      ],
      "source": [
        "# do not change the code in the block below\n",
        "# __________start of block__________\n",
        "\n",
        "train_mnist_data = MNIST('.', train=True, transform=torchvision.transforms.ToTensor(), download=True)\n",
        "test_mnist_data = MNIST('.', train=False, transform=torchvision.transforms.ToTensor(), download=True)\n",
        "\n",
        "\n",
        "train_data_loader = torch.utils.data.DataLoader(\n",
        "    train_mnist_data,\n",
        "    batch_size=32,\n",
        "    shuffle=True,\n",
        "    num_workers=2\n",
        ")\n",
        "\n",
        "test_data_loader = torch.utils.data.DataLoader(\n",
        "    test_mnist_data,\n",
        "    batch_size=32,\n",
        "    shuffle=False,\n",
        "    num_workers=2\n",
        ")\n",
        "\n",
        "random_batch = next(iter(train_data_loader))\n",
        "_image, _label = random_batch[0][0], random_batch[1][0]\n",
        "plt.figure()\n",
        "plt.imshow(_image.reshape(28, 28))\n",
        "plt.title(f'Image label: {_label}')\n",
        "# __________end of block__________"
      ]
    },
    {
      "cell_type": "markdown",
      "metadata": {
        "id": "S4XfhfTB63ln"
      },
      "source": [
        "Постройте модель ниже. Пожалуйста, не стройте переусложненную сеть, не стоит делать ее глубже четырех слоев (можно и меньше). Ваша основная задача – обучить модель и получить качество на отложенной (тестовой выборке) не менее 92% accuracy.\n",
        "\n",
        "*Комментарий: для этого достаточно линейных слоев и функций активации.*\n",
        "\n",
        "__Внимание, ваша модель должна быть представлена именно переменной `model`.__"
      ]
    },
    {
      "cell_type": "code",
      "execution_count": null,
      "metadata": {
        "id": "nzrqDn0v63ln"
      },
      "outputs": [],
      "source": [
        "# Creating model instance\n",
        "class NeuralNetwork(nn.Module):\n",
        "    def __init__(self):\n",
        "        super().__init__()\n",
        "        self.flatten = nn.Flatten()\n",
        "        self.layers_stack = nn.Sequential(\n",
        "            nn.Linear(28 * 28, 512),\n",
        "            nn.ReLU(),\n",
        "            nn.Linear(512, 128),\n",
        "            nn.ReLU(),\n",
        "            nn.Linear(128, 10),\n",
        "        )\n",
        "\n",
        "    def forward(self, x):\n",
        "        x = self.flatten(x)\n",
        "        logits = self.layers_stack(x)\n",
        "        return logits\n",
        "\n",
        "device = \"cuda\" if torch.cuda.is_available() else \"cpu\"\n",
        "model = NeuralNetwork().to(device) # your code here"
      ]
    },
    {
      "cell_type": "markdown",
      "metadata": {
        "id": "55XmeHN663ln"
      },
      "source": [
        "Локальные тесты для проверки вашей модели доступны ниже:"
      ]
    },
    {
      "cell_type": "code",
      "execution_count": null,
      "metadata": {
        "id": "TGS6UUNB63lo",
        "colab": {
          "base_uri": "https://localhost:8080/"
        },
        "outputId": "13327bc8-0f3c-48fe-a6bc-840781d8d6e9"
      },
      "outputs": [
        {
          "output_type": "stream",
          "name": "stdout",
          "text": [
            "Everything seems fine!\n"
          ]
        }
      ],
      "source": [
        "# do not change the code in the block below\n",
        "# __________start of block__________\n",
        "assert model is not None, 'Please, use `model` variable to store your model'\n",
        "\n",
        "try:\n",
        "    x = random_batch[0].reshape(-1, 784)\n",
        "    y = random_batch[1]\n",
        "\n",
        "    # compute outputs given inputs, both are variables\n",
        "    y_predicted = model(x)\n",
        "except Exception as e:\n",
        "    print('Something is wrong with the model')\n",
        "    raise e\n",
        "\n",
        "\n",
        "assert y_predicted.shape[-1] == 10, 'Model should predict 10 logits/probas'\n",
        "\n",
        "print('Everything seems fine!')\n",
        "# __________end of block__________"
      ]
    },
    {
      "cell_type": "markdown",
      "metadata": {
        "id": "JARmKYo363lp"
      },
      "source": [
        "Настройте параметры модели на обучающей выборке. В качестве примера можете воспользоваться ноутбуком с занятия №1. Также рекомендуем поработать с различными оптимизаторами."
      ]
    },
    {
      "cell_type": "code",
      "execution_count": null,
      "metadata": {
        "id": "YYInxmI063lp"
      },
      "outputs": [],
      "source": [
        "# your code here\n",
        "num_epochs = 10\n",
        "#batch_size = 64\n",
        "learning_rate = 1e-3\n",
        "criterion = nn.CrossEntropyLoss()\n",
        "optimizer = torch.optim.SGD(model.parameters(), lr=learning_rate, momentum=0.9)"
      ]
    },
    {
      "cell_type": "markdown",
      "metadata": {
        "id": "ZfnPfgrF63lp"
      },
      "source": [
        "Также, напоминаем, что в любой момент можно обратиться к замечательной [документации](https://pytorch.org/docs/stable/index.html) и [обучающим примерам](https://pytorch.org/tutorials/).  "
      ]
    },
    {
      "cell_type": "markdown",
      "metadata": {
        "id": "-TkKYKh063lp"
      },
      "source": [
        "Оценим качество классификации:"
      ]
    },
    {
      "cell_type": "code",
      "source": [
        "def train_loop(dataloader, model, criterion, optimizer):\n",
        "    num_batches = len(dataloader)\n",
        "\n",
        "    train_loss = 0\n",
        "    predicted_labels = []\n",
        "    real_labels = []\n",
        "    #model.eval()\n",
        "\n",
        "    for batch in train_data_loader:\n",
        "        # Compute prediction and loss\n",
        "        y_predicted = model(batch[0].reshape(-1, 784).to(device))\n",
        "        loss = criterion(y_predicted, batch[1].to(device))\n",
        "\n",
        "        # Optimization\n",
        "        optimizer.zero_grad()\n",
        "        loss.backward()\n",
        "        optimizer.step()\n",
        "\n",
        "        train_loss += loss.item()\n",
        "        predicted_labels.append(y_predicted.argmax(dim=1))\n",
        "        real_labels.append(batch[1])\n",
        "\n",
        "    train_loss /= num_batches\n",
        "    print(f\"Train loss: {train_loss:>8f}\")\n",
        "\n",
        "    return train_loss, predicted_labels, real_labels\n",
        "\n",
        "\n",
        "def test_loop(dataloader, model, criterion):\n",
        "    size = len(dataloader.dataset)\n",
        "    num_batches = len(dataloader)\n",
        "\n",
        "    test_loss = 0\n",
        "    predicted_labels = []\n",
        "    real_labels = []\n",
        "\n",
        "    with torch.no_grad():\n",
        "        for batch in test_data_loader:\n",
        "            # Compute prediction and loss\n",
        "            y_predicted = model(batch[0].reshape(-1, 784).to(device))\n",
        "            loss = criterion(y_predicted, batch[1].to(device))\n",
        "\n",
        "            test_loss += loss.item()\n",
        "            predicted_labels.append(y_predicted.argmax(dim=1))\n",
        "            real_labels.append(batch[1])\n",
        "\n",
        "\n",
        "    test_loss /= num_batches\n",
        "\n",
        "    print(f\"Test loss: {test_loss:>8f}\")\n",
        "\n",
        "    return test_loss, predicted_labels, real_labels"
      ],
      "metadata": {
        "id": "Vwe6UQZnZ4g7"
      },
      "execution_count": null,
      "outputs": []
    },
    {
      "cell_type": "code",
      "execution_count": null,
      "metadata": {
        "id": "tn2yrzna7hO4",
        "colab": {
          "base_uri": "https://localhost:8080/"
        },
        "outputId": "8176b67a-6a4e-4b2c-ebdd-2609775fc164"
      },
      "outputs": [
        {
          "output_type": "stream",
          "name": "stdout",
          "text": [
            "Epoch 1\n",
            "Train loss: 1.104830\n",
            "Test loss: 0.417765\n",
            "Epoch 2\n",
            "Train loss: 0.365578\n",
            "Test loss: 0.306241\n",
            "Epoch 3\n",
            "Train loss: 0.298395\n",
            "Test loss: 0.269427\n",
            "Epoch 4\n",
            "Train loss: 0.259909\n",
            "Test loss: 0.236201\n",
            "Epoch 5\n",
            "Train loss: 0.227513\n",
            "Test loss: 0.205284\n",
            "Epoch 6\n",
            "Train loss: 0.201075\n",
            "Test loss: 0.190800\n",
            "Epoch 7\n",
            "Train loss: 0.179240\n",
            "Test loss: 0.165262\n",
            "Epoch 8\n",
            "Train loss: 0.159869\n",
            "Test loss: 0.151063\n",
            "Epoch 9\n",
            "Train loss: 0.144918\n",
            "Test loss: 0.137270\n",
            "Epoch 10\n",
            "Train loss: 0.130933\n",
            "Test loss: 0.130670\n",
            "Done!\n",
            "CPU times: user 2min 21s, sys: 10.1 s, total: 2min 31s\n",
            "Wall time: 3min 54s\n"
          ]
        }
      ],
      "source": [
        "%%time\n",
        "# for plotting\n",
        "loss_history = {\"train\": [], \"test\": []}\n",
        "\n",
        "for i in range(num_epochs):\n",
        "    print(f\"Epoch {i+1}\")\n",
        "    train_loss, predicted_labels, real_labels = train_loop(train_data_loader, model, criterion, optimizer)\n",
        "    predicted_labels = torch.cat(predicted_labels)\n",
        "    real_labels = torch.cat(real_labels)\n",
        "    train_acc = (predicted_labels == real_labels).type(torch.FloatTensor).mean()\n",
        "\n",
        "\n",
        "    test_loss, predicted_labels, real_labels = test_loop(test_data_loader, model, criterion)\n",
        "    predicted_labels = torch.cat(predicted_labels)\n",
        "    real_labels = torch.cat(real_labels)\n",
        "    test_acc = (predicted_labels == real_labels).type(torch.FloatTensor).mean()\n",
        "\n",
        "    loss_history[\"train\"].append(train_loss)\n",
        "    loss_history[\"test\"].append(test_loss)\n",
        "print(\"Done!\")"
      ]
    },
    {
      "cell_type": "code",
      "execution_count": null,
      "metadata": {
        "id": "BSsQsQty63lq",
        "colab": {
          "base_uri": "https://localhost:8080/"
        },
        "outputId": "e593e2c2-f786-46c0-afe9-3c490c8672d3"
      },
      "outputs": [
        {
          "output_type": "stream",
          "name": "stdout",
          "text": [
            "Neural network accuracy on train set: 0.9625\n"
          ]
        }
      ],
      "source": [
        "print(f'Neural network accuracy on train set: {train_acc:3.5}')"
      ]
    },
    {
      "cell_type": "code",
      "execution_count": null,
      "metadata": {
        "id": "4T4tsN7263lq",
        "colab": {
          "base_uri": "https://localhost:8080/"
        },
        "outputId": "f4ef863a-6824-4b67-9801-1c04a1f95931"
      },
      "outputs": [
        {
          "output_type": "stream",
          "name": "stdout",
          "text": [
            "Neural network accuracy on test set: 0.9615\n"
          ]
        }
      ],
      "source": [
        "print(f'Neural network accuracy on test set: {test_acc:3.5}')"
      ]
    },
    {
      "cell_type": "markdown",
      "source": [
        "\n",
        "Построим график функции потерь на обучающих и на тестовых данных по эпохам:"
      ],
      "metadata": {
        "id": "NX7KjBXkp1tm"
      }
    },
    {
      "cell_type": "code",
      "source": [
        "plt.figure(figsize=(10, 5))\n",
        "plt.plot(range(1, num_epochs + 1), loss_history[\"train\"], label=\"train\")\n",
        "plt.plot(range(1, num_epochs + 1), loss_history[\"test\"], label=\"test\")\n",
        "plt.xlabel(\"Epochs\", fontsize=15)\n",
        "plt.ylabel(\"Loss\", fontsize=15)\n",
        "plt.legend()\n",
        "plt.grid()\n",
        "plt.show()"
      ],
      "metadata": {
        "colab": {
          "base_uri": "https://localhost:8080/",
          "height": 471
        },
        "id": "rd6jh7ydpvZT",
        "outputId": "c194e93b-b8bb-4849-bd57-e673afb6a858"
      },
      "execution_count": null,
      "outputs": [
        {
          "output_type": "display_data",
          "data": {
            "text/plain": [
              "<Figure size 1000x500 with 1 Axes>"
            ],
            "image/png": "[encoded data removed]"
          },
          "metadata": {}
        }
      ]
    },
    {
      "cell_type": "markdown",
      "metadata": {
        "id": "MCsI3N_G63lq"
      },
      "source": [
        "Проверка, что необходимые пороги пройдены:"
      ]
    },
    {
      "cell_type": "code",
      "execution_count": null,
      "metadata": {
        "id": "ukDNerLK63lr"
      },
      "outputs": [],
      "source": [
        "assert test_acc >= 0.92, 'Test accuracy is below 0.92 threshold'\n",
        "assert train_acc >= 0.91, 'Train accuracy is below 0.91 while test accuracy is fine. We recommend to check your model and data flow'"
      ]
    },
    {
      "cell_type": "markdown",
      "metadata": {
        "id": "xH9g9tbJ63lr"
      },
      "source": [
        "### Сдача задания\n",
        "Загрузите файл `hw03_data_dict.npy` (ссылка есть на странице с заданием) и запустите код ниже для генерации посылки. Код ниже может его загрузить (но в случае возникновения ошибки скачайте и загрузите его вручную)."
      ]
    },
    {
      "cell_type": "code",
      "execution_count": null,
      "metadata": {
        "id": "1j97l9LJ63lr",
        "colab": {
          "base_uri": "https://localhost:8080/"
        },
        "outputId": "c23b5a5d-acee-40fa-a998-0bd398cf7809"
      },
      "outputs": [
        {
          "output_type": "stream",
          "name": "stdout",
          "text": [
            "--2023-11-26 17:27:47--  https://raw.githubusercontent.com/girafe-ai/ml-course/msu_branch/homeworks/hw03_mnist/hw03_data_dict.npy\n",
            "Resolving raw.githubusercontent.com (raw.githubusercontent.com)... 185.199.108.133, 185.199.109.133, 185.199.110.133, ...\n",
            "Connecting to raw.githubusercontent.com (raw.githubusercontent.com)|185.199.108.133|:443... connected.\n",
            "HTTP request sent, awaiting response... 200 OK\n",
            "Length: 6272438 (6.0M) [application/octet-stream]\n",
            "Saving to: ‘hw03_data_dict.npy’\n",
            "\n",
            "hw03_data_dict.npy  100%[===================>]   5.98M  21.0MB/s    in 0.3s    \n",
            "\n",
            "2023-11-26 17:27:48 (21.0 MB/s) - ‘hw03_data_dict.npy’ saved [6272438/6272438]\n",
            "\n"
          ]
        }
      ],
      "source": [
        "!wget https://raw.githubusercontent.com/girafe-ai/ml-course/msu_branch/homeworks/hw03_mnist/hw03_data_dict.npy"
      ]
    },
    {
      "cell_type": "code",
      "execution_count": null,
      "metadata": {
        "id": "Xx5Wlk-B63lr",
        "colab": {
          "base_uri": "https://localhost:8080/"
        },
        "outputId": "839e09e4-bc96-4e0b-ad51-7559c0fbe81a"
      },
      "outputs": [
        {
          "output_type": "stream",
          "name": "stdout",
          "text": [
            "File saved to `submission_dict_hw03.npy`\n"
          ]
        }
      ],
      "source": [
        "# do not change the code in the block below\n",
        "# __________start of block__________\n",
        "import os\n",
        "\n",
        "assert os.path.exists('hw03_data_dict.npy'), 'Please, download `hw03_data_dict.npy` and place it in the working directory'\n",
        "\n",
        "def get_predictions(model, eval_data, step=10):\n",
        "\n",
        "    predicted_labels = []\n",
        "    model.eval()\n",
        "    with torch.no_grad():\n",
        "        for idx in range(0, len(eval_data), step):\n",
        "            y_predicted = model(eval_data[idx:idx+step].reshape(-1, 784))\n",
        "            predicted_labels.append(y_predicted.argmax(dim=1))\n",
        "\n",
        "    predicted_labels = torch.cat(predicted_labels)\n",
        "    return predicted_labels\n",
        "\n",
        "loaded_data_dict = np.load('hw03_data_dict.npy', allow_pickle=True)\n",
        "\n",
        "submission_dict = {\n",
        "    'train': get_predictions(model, torch.FloatTensor(loaded_data_dict.item()['train'])).numpy(),\n",
        "    'test': get_predictions(model, torch.FloatTensor(loaded_data_dict.item()['test'])).numpy()\n",
        "}\n",
        "\n",
        "np.save('submission_dict_hw03.npy', submission_dict, allow_pickle=True)\n",
        "print('File saved to `submission_dict_hw03.npy`')\n",
        "# __________end of block__________"
      ]
    },
    {
      "cell_type": "markdown",
      "metadata": {
        "id": "llWf5nyI63lr"
      },
      "source": [
        "На этом задание завершено. Поздравляем!"
      ]
    }
  ],
  "metadata": {
    "kernelspec": {
      "display_name": "Py3 Research",
      "language": "python",
      "name": "py3_research"
    },
    "language_info": {
      "codemirror_mode": {
        "name": "ipython",
        "version": 3
      },
      "file_extension": ".py",
      "mimetype": "text/x-python",
      "name": "python",
      "nbconvert_exporter": "python",
      "pygments_lexer": "ipython3",
      "version": "3.7.10"
    },
    "colab": {
      "provenance": []
    }
  },
  "nbformat": 4,
  "nbformat_minor": 0
}